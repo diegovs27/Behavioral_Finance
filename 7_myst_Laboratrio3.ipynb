{
 "cells": [
  {
   "cell_type": "markdown",
   "metadata": {},
   "source": [
    "<img style=\"float: right; margin: 0px 0px 15px 15px;\" src=\"https://upload.wikimedia.org/wikipedia/commons/d/db/Logo_ITESO_normal.jpg\" width=\"150px\" height=\"90px\" />\n",
    "\n",
    "## Microestructuras y sistemas de trading\n",
    "\n",
    "### Laboratorio 3. Behavioral Finance\n",
    "\n",
    ">##### Carlos Eduardo Ochoa Arámbula IF698020\n",
    ">##### Diego Velasco Sánchez IF698016\n",
    ">##### Oscar Germán Villa Domínguez IF697598"
   ]
  },
  {
   "cell_type": "markdown",
   "metadata": {},
   "source": [
    "### Objetivo:\n",
    "\n",
    "Para la resolución de este laboratorio, se implementará una función que pueda determinar que tanto incurre un trader en un sesgo cognitivo, llamado aversión a la pérdida, descubierto y desarrollado por Daniel Kahneman y Amos Tversky en su famosa investigación del \"Prospect theory\".\n"
   ]
  },
  {
   "cell_type": "markdown",
   "metadata": {},
   "source": [
    "### Sesgos Cognitivos:\n",
    "\n",
    "Se les conoce así a los efectos psicológicos que producen algún tipo de desviación en el proceso mental de una persona, lo que produce un resultado que carezca de lógica o racionalidad.\n",
    "\n",
    "Existe una gran cantidad de sesgos, sin embargo, en este proyecto, el sesgo a trabajar es el de \"loss aversion\"."
   ]
  },
  {
   "cell_type": "markdown",
   "metadata": {},
   "source": [
    "### Loss Aversion:\n",
    "\n",
    "La aversión a la pérdida hace referencia a que las personas preferimos fuertemente evitar pérdidas a realizar ganancias monetarias equivalentes, lo que normalmente se define con una frase: \"Las pérdidas tienen más peso que las ganancias\".\n",
    "\n",
    "Para términos de este laboratorio, se tomará como una decisión sesgada el realizar una pérdida antes de que el precio del subyacente seleccionado llegue al nivel del \"Stop loss\" establecido."
   ]
  },
  {
   "cell_type": "code",
   "execution_count": 58,
   "metadata": {},
   "outputs": [],
   "source": [
    "import numpy as np\n",
    "import pandas as pd\n",
    "#import func_json as fj\n",
    "import f_bf_lossaversion as LA"
   ]
  },
  {
   "cell_type": "code",
   "execution_count": 59,
   "metadata": {},
   "outputs": [
    {
     "data": {
      "text/html": [
       "<div>\n",
       "<style scoped>\n",
       "    .dataframe tbody tr th:only-of-type {\n",
       "        vertical-align: middle;\n",
       "    }\n",
       "\n",
       "    .dataframe tbody tr th {\n",
       "        vertical-align: top;\n",
       "    }\n",
       "\n",
       "    .dataframe thead th {\n",
       "        text-align: right;\n",
       "    }\n",
       "</style>\n",
       "<table border=\"1\" class=\"dataframe\">\n",
       "  <thead>\n",
       "    <tr style=\"text-align: right;\">\n",
       "      <th></th>\n",
       "      <th>Type</th>\n",
       "      <th>Size</th>\n",
       "      <th>Symbol</th>\n",
       "      <th>openPrice</th>\n",
       "      <th>S/L</th>\n",
       "      <th>T/P</th>\n",
       "      <th>closeTime</th>\n",
       "      <th>closePrice</th>\n",
       "      <th>Profit</th>\n",
       "    </tr>\n",
       "    <tr>\n",
       "      <th>Order</th>\n",
       "      <th></th>\n",
       "      <th></th>\n",
       "      <th></th>\n",
       "      <th></th>\n",
       "      <th></th>\n",
       "      <th></th>\n",
       "      <th></th>\n",
       "      <th></th>\n",
       "      <th></th>\n",
       "    </tr>\n",
       "  </thead>\n",
       "  <tbody>\n",
       "    <tr>\n",
       "      <th>24316034</th>\n",
       "      <td>buy</td>\n",
       "      <td>0.04</td>\n",
       "      <td>xauusd</td>\n",
       "      <td>1529.21000</td>\n",
       "      <td>1523.0000</td>\n",
       "      <td>1543.0000</td>\n",
       "      <td>2019.08.27 09:16:01</td>\n",
       "      <td>1533.69000</td>\n",
       "      <td>17.92</td>\n",
       "    </tr>\n",
       "    <tr>\n",
       "      <th>24334215</th>\n",
       "      <td>buy</td>\n",
       "      <td>0.01</td>\n",
       "      <td>eurjpy</td>\n",
       "      <td>117.66400</td>\n",
       "      <td>116.9500</td>\n",
       "      <td>118.7000</td>\n",
       "      <td>2019.08.29 06:38:16</td>\n",
       "      <td>117.37400</td>\n",
       "      <td>-2.73</td>\n",
       "    </tr>\n",
       "    <tr>\n",
       "      <th>24342155</th>\n",
       "      <td>buy</td>\n",
       "      <td>0.05</td>\n",
       "      <td>eurjpy</td>\n",
       "      <td>117.34600</td>\n",
       "      <td>116.9500</td>\n",
       "      <td>119.7000</td>\n",
       "      <td>2019.08.28 21:01:24</td>\n",
       "      <td>117.45200</td>\n",
       "      <td>5.00</td>\n",
       "    </tr>\n",
       "    <tr>\n",
       "      <th>24373260</th>\n",
       "      <td>buy</td>\n",
       "      <td>0.01</td>\n",
       "      <td>eurusd</td>\n",
       "      <td>1.10791</td>\n",
       "      <td>1.1040</td>\n",
       "      <td>1.1175</td>\n",
       "      <td>2019.08.29 06:38:28</td>\n",
       "      <td>1.10818</td>\n",
       "      <td>0.27</td>\n",
       "    </tr>\n",
       "    <tr>\n",
       "      <th>24392415</th>\n",
       "      <td>buy</td>\n",
       "      <td>0.01</td>\n",
       "      <td>gbpusd</td>\n",
       "      <td>1.22024</td>\n",
       "      <td>1.2080</td>\n",
       "      <td>1.2370</td>\n",
       "      <td>2019.08.29 06:37:23</td>\n",
       "      <td>1.21990</td>\n",
       "      <td>-0.34</td>\n",
       "    </tr>\n",
       "    <tr>\n",
       "      <th>24392425</th>\n",
       "      <td>buy</td>\n",
       "      <td>0.01</td>\n",
       "      <td>gbpjpy</td>\n",
       "      <td>129.23400</td>\n",
       "      <td>128.0000</td>\n",
       "      <td>132.2000</td>\n",
       "      <td>2019.08.29 06:36:58</td>\n",
       "      <td>129.21000</td>\n",
       "      <td>-0.23</td>\n",
       "    </tr>\n",
       "    <tr>\n",
       "      <th>24392432</th>\n",
       "      <td>buy</td>\n",
       "      <td>0.04</td>\n",
       "      <td>gbpjpy</td>\n",
       "      <td>129.23400</td>\n",
       "      <td>128.0000</td>\n",
       "      <td>132.2000</td>\n",
       "      <td>2019.08.29 15:01:24</td>\n",
       "      <td>129.80100</td>\n",
       "      <td>21.35</td>\n",
       "    </tr>\n",
       "    <tr>\n",
       "      <th>24392440</th>\n",
       "      <td>buy</td>\n",
       "      <td>0.04</td>\n",
       "      <td>gbpusd</td>\n",
       "      <td>1.22024</td>\n",
       "      <td>1.2080</td>\n",
       "      <td>1.2370</td>\n",
       "      <td>2019.08.29 15:01:43</td>\n",
       "      <td>1.22173</td>\n",
       "      <td>5.96</td>\n",
       "    </tr>\n",
       "    <tr>\n",
       "      <th>24392449</th>\n",
       "      <td>buy</td>\n",
       "      <td>0.04</td>\n",
       "      <td>eurjpy</td>\n",
       "      <td>117.66400</td>\n",
       "      <td>117.4000</td>\n",
       "      <td>118.7000</td>\n",
       "      <td>2019.08.30 09:17:23</td>\n",
       "      <td>117.39900</td>\n",
       "      <td>-9.98</td>\n",
       "    </tr>\n",
       "    <tr>\n",
       "      <th>24392456</th>\n",
       "      <td>buy</td>\n",
       "      <td>0.04</td>\n",
       "      <td>eurusd</td>\n",
       "      <td>1.10791</td>\n",
       "      <td>1.1015</td>\n",
       "      <td>1.1175</td>\n",
       "      <td>2019.08.30 17:57:15</td>\n",
       "      <td>1.10150</td>\n",
       "      <td>-25.64</td>\n",
       "    </tr>\n",
       "    <tr>\n",
       "      <th>24416172</th>\n",
       "      <td>buy</td>\n",
       "      <td>0.04</td>\n",
       "      <td>eurusd</td>\n",
       "      <td>1.10543</td>\n",
       "      <td>1.1040</td>\n",
       "      <td>0.0000</td>\n",
       "      <td>2019.08.29 19:56:51</td>\n",
       "      <td>1.10518</td>\n",
       "      <td>-1.00</td>\n",
       "    </tr>\n",
       "    <tr>\n",
       "      <th>24416187</th>\n",
       "      <td>buy</td>\n",
       "      <td>0.05</td>\n",
       "      <td>eurusd</td>\n",
       "      <td>1.10545</td>\n",
       "      <td>1.1015</td>\n",
       "      <td>0.0000</td>\n",
       "      <td>2019.08.30 17:57:14</td>\n",
       "      <td>1.10150</td>\n",
       "      <td>-19.75</td>\n",
       "    </tr>\n",
       "    <tr>\n",
       "      <th>24417804</th>\n",
       "      <td>buy</td>\n",
       "      <td>0.05</td>\n",
       "      <td>xauusd</td>\n",
       "      <td>1528.76000</td>\n",
       "      <td>1524.0000</td>\n",
       "      <td>1555.0000</td>\n",
       "      <td>2019.08.29 21:11:08</td>\n",
       "      <td>1523.80000</td>\n",
       "      <td>-24.80</td>\n",
       "    </tr>\n",
       "    <tr>\n",
       "      <th>24432348</th>\n",
       "      <td>buy</td>\n",
       "      <td>0.05</td>\n",
       "      <td>xauusd</td>\n",
       "      <td>1525.05000</td>\n",
       "      <td>1515.0000</td>\n",
       "      <td>1560.0000</td>\n",
       "      <td>2019.08.30 17:02:21</td>\n",
       "      <td>1528.61000</td>\n",
       "      <td>17.80</td>\n",
       "    </tr>\n",
       "    <tr>\n",
       "      <th>24464440</th>\n",
       "      <td>buy</td>\n",
       "      <td>0.01</td>\n",
       "      <td>gbpusd</td>\n",
       "      <td>1.21630</td>\n",
       "      <td>1.2080</td>\n",
       "      <td>0.0000</td>\n",
       "      <td>2019.09.02 01:33:50</td>\n",
       "      <td>1.21590</td>\n",
       "      <td>-0.40</td>\n",
       "    </tr>\n",
       "    <tr>\n",
       "      <th>24464454</th>\n",
       "      <td>buy</td>\n",
       "      <td>0.04</td>\n",
       "      <td>gbpusd</td>\n",
       "      <td>1.21630</td>\n",
       "      <td>1.2080</td>\n",
       "      <td>0.0000</td>\n",
       "      <td>2019.09.02 11:55:28</td>\n",
       "      <td>1.20799</td>\n",
       "      <td>-33.24</td>\n",
       "    </tr>\n",
       "    <tr>\n",
       "      <th>24471787</th>\n",
       "      <td>buy</td>\n",
       "      <td>0.05</td>\n",
       "      <td>eurusd</td>\n",
       "      <td>1.09915</td>\n",
       "      <td>1.0940</td>\n",
       "      <td>0.0000</td>\n",
       "      <td>2019.09.03 04:04:43</td>\n",
       "      <td>1.09399</td>\n",
       "      <td>-25.80</td>\n",
       "    </tr>\n",
       "    <tr>\n",
       "      <th>24518282</th>\n",
       "      <td>buy</td>\n",
       "      <td>0.01</td>\n",
       "      <td>gbpjpy</td>\n",
       "      <td>128.17800</td>\n",
       "      <td>127.8000</td>\n",
       "      <td>0.0000</td>\n",
       "      <td>2019.09.03 04:49:22</td>\n",
       "      <td>128.14500</td>\n",
       "      <td>-0.31</td>\n",
       "    </tr>\n",
       "    <tr>\n",
       "      <th>24518288</th>\n",
       "      <td>buy</td>\n",
       "      <td>0.04</td>\n",
       "      <td>gbpjpy</td>\n",
       "      <td>128.17800</td>\n",
       "      <td>127.8000</td>\n",
       "      <td>0.0000</td>\n",
       "      <td>2019.09.03 08:37:26</td>\n",
       "      <td>127.80000</td>\n",
       "      <td>-14.24</td>\n",
       "    </tr>\n",
       "    <tr>\n",
       "      <th>24518296</th>\n",
       "      <td>buy</td>\n",
       "      <td>0.01</td>\n",
       "      <td>audusd</td>\n",
       "      <td>0.67020</td>\n",
       "      <td>0.6660</td>\n",
       "      <td>0.0000</td>\n",
       "      <td>2019.09.03 04:49:54</td>\n",
       "      <td>0.66991</td>\n",
       "      <td>-0.29</td>\n",
       "    </tr>\n",
       "    <tr>\n",
       "      <th>24518303</th>\n",
       "      <td>buy</td>\n",
       "      <td>0.04</td>\n",
       "      <td>audusd</td>\n",
       "      <td>0.67020</td>\n",
       "      <td>0.6660</td>\n",
       "      <td>0.6830</td>\n",
       "      <td>2019.09.03 15:47:53</td>\n",
       "      <td>0.67284</td>\n",
       "      <td>10.56</td>\n",
       "    </tr>\n",
       "    <tr>\n",
       "      <th>24518320</th>\n",
       "      <td>buy</td>\n",
       "      <td>0.01</td>\n",
       "      <td>usdjpy</td>\n",
       "      <td>106.37200</td>\n",
       "      <td>105.8000</td>\n",
       "      <td>0.0000</td>\n",
       "      <td>2019.09.03 04:50:27</td>\n",
       "      <td>106.34500</td>\n",
       "      <td>-0.25</td>\n",
       "    </tr>\n",
       "    <tr>\n",
       "      <th>24518329</th>\n",
       "      <td>buy</td>\n",
       "      <td>0.04</td>\n",
       "      <td>usdjpy</td>\n",
       "      <td>106.37200</td>\n",
       "      <td>105.8000</td>\n",
       "      <td>0.0000</td>\n",
       "      <td>2019.09.03 17:04:26</td>\n",
       "      <td>105.80000</td>\n",
       "      <td>-21.63</td>\n",
       "    </tr>\n",
       "    <tr>\n",
       "      <th>24766404</th>\n",
       "      <td>buy</td>\n",
       "      <td>0.01</td>\n",
       "      <td>xauusd</td>\n",
       "      <td>1487.63000</td>\n",
       "      <td>1473.0000</td>\n",
       "      <td>0.0000</td>\n",
       "      <td>2019.09.11 01:52:25</td>\n",
       "      <td>1487.05000</td>\n",
       "      <td>-0.58</td>\n",
       "    </tr>\n",
       "    <tr>\n",
       "      <th>24766410</th>\n",
       "      <td>buy</td>\n",
       "      <td>0.04</td>\n",
       "      <td>xauusd</td>\n",
       "      <td>1487.63000</td>\n",
       "      <td>1473.0000</td>\n",
       "      <td>0.0000</td>\n",
       "      <td>2019.09.11 14:11:29</td>\n",
       "      <td>1492.74000</td>\n",
       "      <td>20.44</td>\n",
       "    </tr>\n",
       "    <tr>\n",
       "      <th>24778231</th>\n",
       "      <td>buy</td>\n",
       "      <td>0.06</td>\n",
       "      <td>usdmxn</td>\n",
       "      <td>19.52363</td>\n",
       "      <td>19.4300</td>\n",
       "      <td>0.0000</td>\n",
       "      <td>2019.09.12 14:48:03</td>\n",
       "      <td>19.42847</td>\n",
       "      <td>-29.39</td>\n",
       "    </tr>\n",
       "    <tr>\n",
       "      <th>24850230</th>\n",
       "      <td>buy</td>\n",
       "      <td>0.06</td>\n",
       "      <td>usdmxn</td>\n",
       "      <td>19.44123</td>\n",
       "      <td>0.0000</td>\n",
       "      <td>0.0000</td>\n",
       "      <td>2019.09.25 15:24:28</td>\n",
       "      <td>19.58155</td>\n",
       "      <td>43.00</td>\n",
       "    </tr>\n",
       "    <tr>\n",
       "      <th>24853645</th>\n",
       "      <td>buy</td>\n",
       "      <td>0.06</td>\n",
       "      <td>xauusd</td>\n",
       "      <td>1497.97000</td>\n",
       "      <td>1491.0000</td>\n",
       "      <td>0.0000</td>\n",
       "      <td>2019.09.13 10:58:49</td>\n",
       "      <td>1504.48000</td>\n",
       "      <td>39.06</td>\n",
       "    </tr>\n",
       "    <tr>\n",
       "      <th>24881355</th>\n",
       "      <td>buy</td>\n",
       "      <td>0.06</td>\n",
       "      <td>xauusd</td>\n",
       "      <td>1494.14000</td>\n",
       "      <td>0.0000</td>\n",
       "      <td>0.0000</td>\n",
       "      <td>2019.09.16 01:24:24</td>\n",
       "      <td>1501.74000</td>\n",
       "      <td>45.60</td>\n",
       "    </tr>\n",
       "    <tr>\n",
       "      <th>24883777</th>\n",
       "      <td>buy</td>\n",
       "      <td>0.06</td>\n",
       "      <td>xauusd</td>\n",
       "      <td>1487.17000</td>\n",
       "      <td>0.0000</td>\n",
       "      <td>0.0000</td>\n",
       "      <td>2019.09.13 23:48:34</td>\n",
       "      <td>1488.57000</td>\n",
       "      <td>8.40</td>\n",
       "    </tr>\n",
       "    <tr>\n",
       "      <th>24929591</th>\n",
       "      <td>buy</td>\n",
       "      <td>0.06</td>\n",
       "      <td>eurusd</td>\n",
       "      <td>1.10122</td>\n",
       "      <td>1.0975</td>\n",
       "      <td>0.0000</td>\n",
       "      <td>2019.09.17 15:26:48</td>\n",
       "      <td>1.10214</td>\n",
       "      <td>5.52</td>\n",
       "    </tr>\n",
       "    <tr>\n",
       "      <th>25011739</th>\n",
       "      <td>buy</td>\n",
       "      <td>0.06</td>\n",
       "      <td>eurusd</td>\n",
       "      <td>1.10373</td>\n",
       "      <td>0.0000</td>\n",
       "      <td>0.0000</td>\n",
       "      <td>2019.09.19 15:33:37</td>\n",
       "      <td>1.10639</td>\n",
       "      <td>15.96</td>\n",
       "    </tr>\n",
       "    <tr>\n",
       "      <th>25027858</th>\n",
       "      <td>buy</td>\n",
       "      <td>0.06</td>\n",
       "      <td>usdmxn</td>\n",
       "      <td>19.32863</td>\n",
       "      <td>0.0000</td>\n",
       "      <td>0.0000</td>\n",
       "      <td>2019.09.19 17:53:54</td>\n",
       "      <td>19.37814</td>\n",
       "      <td>15.33</td>\n",
       "    </tr>\n",
       "    <tr>\n",
       "      <th>25042946</th>\n",
       "      <td>buy</td>\n",
       "      <td>0.06</td>\n",
       "      <td>eurusd</td>\n",
       "      <td>1.10451</td>\n",
       "      <td>1.1010</td>\n",
       "      <td>0.0000</td>\n",
       "      <td>2019.09.20 07:27:14</td>\n",
       "      <td>1.10573</td>\n",
       "      <td>7.32</td>\n",
       "    </tr>\n",
       "    <tr>\n",
       "      <th>25043204</th>\n",
       "      <td>buy</td>\n",
       "      <td>0.06</td>\n",
       "      <td>eurusd</td>\n",
       "      <td>1.10454</td>\n",
       "      <td>1.1010</td>\n",
       "      <td>0.0000</td>\n",
       "      <td>2019.09.20 07:27:10</td>\n",
       "      <td>1.10573</td>\n",
       "      <td>7.14</td>\n",
       "    </tr>\n",
       "    <tr>\n",
       "      <th>25188529</th>\n",
       "      <td>buy</td>\n",
       "      <td>0.08</td>\n",
       "      <td>usdmxn</td>\n",
       "      <td>19.56233</td>\n",
       "      <td>19.5900</td>\n",
       "      <td>19.9000</td>\n",
       "      <td>2019.09.26 21:00:44</td>\n",
       "      <td>19.57897</td>\n",
       "      <td>6.80</td>\n",
       "    </tr>\n",
       "    <tr>\n",
       "      <th>25188553</th>\n",
       "      <td>buy</td>\n",
       "      <td>0.01</td>\n",
       "      <td>usdmxn</td>\n",
       "      <td>19.56103</td>\n",
       "      <td>19.5900</td>\n",
       "      <td>19.9000</td>\n",
       "      <td>2019.09.26 21:00:44</td>\n",
       "      <td>19.58247</td>\n",
       "      <td>1.09</td>\n",
       "    </tr>\n",
       "    <tr>\n",
       "      <th>25193432</th>\n",
       "      <td>buy</td>\n",
       "      <td>0.08</td>\n",
       "      <td>eurusd</td>\n",
       "      <td>1.09455</td>\n",
       "      <td>1.0915</td>\n",
       "      <td>1.1110</td>\n",
       "      <td>2019.09.26 22:33:46</td>\n",
       "      <td>1.09148</td>\n",
       "      <td>-24.56</td>\n",
       "    </tr>\n",
       "    <tr>\n",
       "      <th>25229583</th>\n",
       "      <td>buy</td>\n",
       "      <td>0.09</td>\n",
       "      <td>btcusd</td>\n",
       "      <td>7910.75000</td>\n",
       "      <td>0.0000</td>\n",
       "      <td>0.0000</td>\n",
       "      <td>2019.09.27 15:49:19</td>\n",
       "      <td>7986.78000</td>\n",
       "      <td>6.84</td>\n",
       "    </tr>\n",
       "    <tr>\n",
       "      <th>24311675</th>\n",
       "      <td>sell</td>\n",
       "      <td>0.04</td>\n",
       "      <td>eurjpy</td>\n",
       "      <td>117.40700</td>\n",
       "      <td>117.7000</td>\n",
       "      <td>0.0000</td>\n",
       "      <td>2019.08.27 06:20:11</td>\n",
       "      <td>117.42300</td>\n",
       "      <td>-0.61</td>\n",
       "    </tr>\n",
       "    <tr>\n",
       "      <th>24311730</th>\n",
       "      <td>sell</td>\n",
       "      <td>0.04</td>\n",
       "      <td>eurjpy</td>\n",
       "      <td>117.38900</td>\n",
       "      <td>117.7000</td>\n",
       "      <td>0.0000</td>\n",
       "      <td>2019.08.27 06:23:28</td>\n",
       "      <td>117.41200</td>\n",
       "      <td>-0.87</td>\n",
       "    </tr>\n",
       "    <tr>\n",
       "      <th>24311745</th>\n",
       "      <td>sell</td>\n",
       "      <td>0.04</td>\n",
       "      <td>eurjpy</td>\n",
       "      <td>117.36800</td>\n",
       "      <td>0.0000</td>\n",
       "      <td>0.0000</td>\n",
       "      <td>2019.08.27 06:24:13</td>\n",
       "      <td>117.40200</td>\n",
       "      <td>-1.29</td>\n",
       "    </tr>\n",
       "    <tr>\n",
       "      <th>24315841</th>\n",
       "      <td>sell</td>\n",
       "      <td>0.05</td>\n",
       "      <td>eurjpy</td>\n",
       "      <td>117.34300</td>\n",
       "      <td>117.6500</td>\n",
       "      <td>117.1000</td>\n",
       "      <td>2019.08.27 09:16:08</td>\n",
       "      <td>117.31500</td>\n",
       "      <td>1.32</td>\n",
       "    </tr>\n",
       "    <tr>\n",
       "      <th>24315970</th>\n",
       "      <td>sell</td>\n",
       "      <td>0.04</td>\n",
       "      <td>eurusd</td>\n",
       "      <td>1.11005</td>\n",
       "      <td>1.1126</td>\n",
       "      <td>1.1070</td>\n",
       "      <td>2019.08.27 09:16:04</td>\n",
       "      <td>1.11027</td>\n",
       "      <td>-0.88</td>\n",
       "    </tr>\n",
       "    <tr>\n",
       "      <th>24318553</th>\n",
       "      <td>sell</td>\n",
       "      <td>0.05</td>\n",
       "      <td>eurgbp</td>\n",
       "      <td>0.90821</td>\n",
       "      <td>0.9120</td>\n",
       "      <td>0.9030</td>\n",
       "      <td>2019.08.27 13:31:11</td>\n",
       "      <td>0.90559</td>\n",
       "      <td>16.07</td>\n",
       "    </tr>\n",
       "    <tr>\n",
       "      <th>24325707</th>\n",
       "      <td>sell</td>\n",
       "      <td>0.04</td>\n",
       "      <td>eurusd</td>\n",
       "      <td>1.11060</td>\n",
       "      <td>1.1130</td>\n",
       "      <td>1.1070</td>\n",
       "      <td>2019.08.27 13:57:03</td>\n",
       "      <td>1.11093</td>\n",
       "      <td>-1.32</td>\n",
       "    </tr>\n",
       "    <tr>\n",
       "      <th>24325723</th>\n",
       "      <td>sell</td>\n",
       "      <td>0.04</td>\n",
       "      <td>eurusd</td>\n",
       "      <td>1.11062</td>\n",
       "      <td>1.1130</td>\n",
       "      <td>1.1070</td>\n",
       "      <td>2019.08.27 13:57:57</td>\n",
       "      <td>1.11079</td>\n",
       "      <td>-0.68</td>\n",
       "    </tr>\n",
       "    <tr>\n",
       "      <th>24325740</th>\n",
       "      <td>sell</td>\n",
       "      <td>0.05</td>\n",
       "      <td>eurusd</td>\n",
       "      <td>1.11049</td>\n",
       "      <td>1.1130</td>\n",
       "      <td>1.1070</td>\n",
       "      <td>2019.08.27 14:02:05</td>\n",
       "      <td>1.11090</td>\n",
       "      <td>-2.05</td>\n",
       "    </tr>\n",
       "    <tr>\n",
       "      <th>24427784</th>\n",
       "      <td>sell</td>\n",
       "      <td>0.02</td>\n",
       "      <td>usdjpy</td>\n",
       "      <td>106.49500</td>\n",
       "      <td>106.8000</td>\n",
       "      <td>0.0000</td>\n",
       "      <td>2019.08.30 02:53:33</td>\n",
       "      <td>106.47700</td>\n",
       "      <td>0.34</td>\n",
       "    </tr>\n",
       "    <tr>\n",
       "      <th>24428006</th>\n",
       "      <td>sell</td>\n",
       "      <td>0.06</td>\n",
       "      <td>usdjpy</td>\n",
       "      <td>106.49500</td>\n",
       "      <td>106.8000</td>\n",
       "      <td>0.0000</td>\n",
       "      <td>2019.08.30 17:02:18</td>\n",
       "      <td>106.14000</td>\n",
       "      <td>20.07</td>\n",
       "    </tr>\n",
       "    <tr>\n",
       "      <th>24464433</th>\n",
       "      <td>sell</td>\n",
       "      <td>0.01</td>\n",
       "      <td>usdcad</td>\n",
       "      <td>1.33202</td>\n",
       "      <td>1.3380</td>\n",
       "      <td>0.0000</td>\n",
       "      <td>2019.09.02 01:33:56</td>\n",
       "      <td>1.33237</td>\n",
       "      <td>-0.26</td>\n",
       "    </tr>\n",
       "    <tr>\n",
       "      <th>24464463</th>\n",
       "      <td>sell</td>\n",
       "      <td>0.04</td>\n",
       "      <td>usdcad</td>\n",
       "      <td>1.33202</td>\n",
       "      <td>1.3380</td>\n",
       "      <td>0.0000</td>\n",
       "      <td>2019.09.03 15:20:26</td>\n",
       "      <td>1.33802</td>\n",
       "      <td>-17.94</td>\n",
       "    </tr>\n",
       "    <tr>\n",
       "      <th>24518336</th>\n",
       "      <td>sell</td>\n",
       "      <td>0.05</td>\n",
       "      <td>xauusd</td>\n",
       "      <td>1524.40000</td>\n",
       "      <td>1538.0000</td>\n",
       "      <td>0.0000</td>\n",
       "      <td>2019.09.03 16:23:12</td>\n",
       "      <td>1538.00000</td>\n",
       "      <td>-68.00</td>\n",
       "    </tr>\n",
       "    <tr>\n",
       "      <th>24582538</th>\n",
       "      <td>sell</td>\n",
       "      <td>0.10</td>\n",
       "      <td>usdcad</td>\n",
       "      <td>1.33315</td>\n",
       "      <td>1.3350</td>\n",
       "      <td>0.0000</td>\n",
       "      <td>2019.09.04 17:00:25</td>\n",
       "      <td>1.32928</td>\n",
       "      <td>29.11</td>\n",
       "    </tr>\n",
       "    <tr>\n",
       "      <th>24652480</th>\n",
       "      <td>sell</td>\n",
       "      <td>0.05</td>\n",
       "      <td>eurusd</td>\n",
       "      <td>1.10362</td>\n",
       "      <td>1.1060</td>\n",
       "      <td>0.0000</td>\n",
       "      <td>2019.09.06 13:50:46</td>\n",
       "      <td>1.10302</td>\n",
       "      <td>3.00</td>\n",
       "    </tr>\n",
       "    <tr>\n",
       "      <th>24652485</th>\n",
       "      <td>sell</td>\n",
       "      <td>0.05</td>\n",
       "      <td>audusd</td>\n",
       "      <td>0.68148</td>\n",
       "      <td>0.6860</td>\n",
       "      <td>0.0000</td>\n",
       "      <td>2019.09.06 13:50:41</td>\n",
       "      <td>0.68390</td>\n",
       "      <td>-12.10</td>\n",
       "    </tr>\n",
       "    <tr>\n",
       "      <th>24652590</th>\n",
       "      <td>sell</td>\n",
       "      <td>0.05</td>\n",
       "      <td>gbpusd</td>\n",
       "      <td>1.23158</td>\n",
       "      <td>1.2360</td>\n",
       "      <td>0.0000</td>\n",
       "      <td>2019.09.06 13:50:38</td>\n",
       "      <td>1.22971</td>\n",
       "      <td>9.35</td>\n",
       "    </tr>\n",
       "    <tr>\n",
       "      <th>24660928</th>\n",
       "      <td>sell</td>\n",
       "      <td>0.04</td>\n",
       "      <td>usdcad</td>\n",
       "      <td>1.32292</td>\n",
       "      <td>1.3260</td>\n",
       "      <td>0.0000</td>\n",
       "      <td>2019.09.06 06:05:20</td>\n",
       "      <td>1.32329</td>\n",
       "      <td>-1.12</td>\n",
       "    </tr>\n",
       "    <tr>\n",
       "      <th>24660946</th>\n",
       "      <td>sell</td>\n",
       "      <td>0.04</td>\n",
       "      <td>usdcad</td>\n",
       "      <td>1.32294</td>\n",
       "      <td>1.3260</td>\n",
       "      <td>0.0000</td>\n",
       "      <td>2019.09.06 06:05:52</td>\n",
       "      <td>1.32326</td>\n",
       "      <td>-0.97</td>\n",
       "    </tr>\n",
       "    <tr>\n",
       "      <th>24660956</th>\n",
       "      <td>sell</td>\n",
       "      <td>0.05</td>\n",
       "      <td>usdcad</td>\n",
       "      <td>1.32291</td>\n",
       "      <td>1.3260</td>\n",
       "      <td>0.0000</td>\n",
       "      <td>2019.09.06 13:50:35</td>\n",
       "      <td>1.32310</td>\n",
       "      <td>-0.72</td>\n",
       "    </tr>\n",
       "    <tr>\n",
       "      <th>24669796</th>\n",
       "      <td>sell</td>\n",
       "      <td>0.05</td>\n",
       "      <td>usdcad</td>\n",
       "      <td>1.32248</td>\n",
       "      <td>1.3260</td>\n",
       "      <td>1.3110</td>\n",
       "      <td>2019.09.06 15:30:49</td>\n",
       "      <td>1.31870</td>\n",
       "      <td>14.33</td>\n",
       "    </tr>\n",
       "    <tr>\n",
       "      <th>24669813</th>\n",
       "      <td>sell</td>\n",
       "      <td>0.05</td>\n",
       "      <td>eurusd</td>\n",
       "      <td>1.10270</td>\n",
       "      <td>1.1060</td>\n",
       "      <td>1.0940</td>\n",
       "      <td>2019.09.06 15:30:53</td>\n",
       "      <td>1.10360</td>\n",
       "      <td>-4.50</td>\n",
       "    </tr>\n",
       "    <tr>\n",
       "      <th>24766416</th>\n",
       "      <td>sell</td>\n",
       "      <td>0.01</td>\n",
       "      <td>eurusd</td>\n",
       "      <td>1.10473</td>\n",
       "      <td>1.1120</td>\n",
       "      <td>0.0000</td>\n",
       "      <td>2019.09.11 01:54:40</td>\n",
       "      <td>1.10499</td>\n",
       "      <td>-0.26</td>\n",
       "    </tr>\n",
       "    <tr>\n",
       "      <th>24766426</th>\n",
       "      <td>sell</td>\n",
       "      <td>0.04</td>\n",
       "      <td>eurusd</td>\n",
       "      <td>1.10473</td>\n",
       "      <td>1.1120</td>\n",
       "      <td>0.0000</td>\n",
       "      <td>2019.09.11 14:11:23</td>\n",
       "      <td>1.10122</td>\n",
       "      <td>14.04</td>\n",
       "    </tr>\n",
       "    <tr>\n",
       "      <th>24769913</th>\n",
       "      <td>sell</td>\n",
       "      <td>0.05</td>\n",
       "      <td>usdjpy</td>\n",
       "      <td>107.76500</td>\n",
       "      <td>108.1000</td>\n",
       "      <td>0.0000</td>\n",
       "      <td>2019.09.11 14:11:19</td>\n",
       "      <td>107.71900</td>\n",
       "      <td>2.14</td>\n",
       "    </tr>\n",
       "    <tr>\n",
       "      <th>24778151</th>\n",
       "      <td>sell</td>\n",
       "      <td>0.06</td>\n",
       "      <td>eurusd</td>\n",
       "      <td>1.10042</td>\n",
       "      <td>1.1030</td>\n",
       "      <td>0.0000</td>\n",
       "      <td>2019.09.11 17:18:40</td>\n",
       "      <td>1.09901</td>\n",
       "      <td>8.46</td>\n",
       "    </tr>\n",
       "    <tr>\n",
       "      <th>24803133</th>\n",
       "      <td>sell</td>\n",
       "      <td>0.06</td>\n",
       "      <td>gbpusd</td>\n",
       "      <td>1.23265</td>\n",
       "      <td>1.2360</td>\n",
       "      <td>0.0000</td>\n",
       "      <td>2019.09.12 15:48:51</td>\n",
       "      <td>1.22902</td>\n",
       "      <td>21.78</td>\n",
       "    </tr>\n",
       "    <tr>\n",
       "      <th>24868147</th>\n",
       "      <td>sell</td>\n",
       "      <td>0.06</td>\n",
       "      <td>eurusd</td>\n",
       "      <td>1.10976</td>\n",
       "      <td>1.1130</td>\n",
       "      <td>0.0000</td>\n",
       "      <td>2019.09.13 16:47:28</td>\n",
       "      <td>1.10689</td>\n",
       "      <td>17.22</td>\n",
       "    </tr>\n",
       "    <tr>\n",
       "      <th>24898980</th>\n",
       "      <td>sell</td>\n",
       "      <td>0.06</td>\n",
       "      <td>xauusd</td>\n",
       "      <td>1504.16000</td>\n",
       "      <td>1515.0000</td>\n",
       "      <td>0.0000</td>\n",
       "      <td>2019.09.16 20:34:11</td>\n",
       "      <td>1503.59000</td>\n",
       "      <td>3.42</td>\n",
       "    </tr>\n",
       "    <tr>\n",
       "      <th>24898989</th>\n",
       "      <td>sell</td>\n",
       "      <td>0.06</td>\n",
       "      <td>gbpusd</td>\n",
       "      <td>1.24659</td>\n",
       "      <td>1.2520</td>\n",
       "      <td>0.0000</td>\n",
       "      <td>2019.09.16 14:52:43</td>\n",
       "      <td>1.24387</td>\n",
       "      <td>16.32</td>\n",
       "    </tr>\n",
       "    <tr>\n",
       "      <th>24899012</th>\n",
       "      <td>sell</td>\n",
       "      <td>0.06</td>\n",
       "      <td>eurusd</td>\n",
       "      <td>1.10721</td>\n",
       "      <td>1.1130</td>\n",
       "      <td>0.0000</td>\n",
       "      <td>2019.09.16 14:49:38</td>\n",
       "      <td>1.10332</td>\n",
       "      <td>23.34</td>\n",
       "    </tr>\n",
       "    <tr>\n",
       "      <th>24910005</th>\n",
       "      <td>sell</td>\n",
       "      <td>0.06</td>\n",
       "      <td>gbpusd</td>\n",
       "      <td>1.24518</td>\n",
       "      <td>1.2485</td>\n",
       "      <td>0.0000</td>\n",
       "      <td>2019.09.16 20:34:08</td>\n",
       "      <td>1.24218</td>\n",
       "      <td>18.00</td>\n",
       "    </tr>\n",
       "    <tr>\n",
       "      <th>24940198</th>\n",
       "      <td>sell</td>\n",
       "      <td>0.06</td>\n",
       "      <td>eurusd</td>\n",
       "      <td>1.10216</td>\n",
       "      <td>1.1035</td>\n",
       "      <td>0.0000</td>\n",
       "      <td>2019.09.17 16:17:43</td>\n",
       "      <td>1.10352</td>\n",
       "      <td>-8.16</td>\n",
       "    </tr>\n",
       "    <tr>\n",
       "      <th>24955804</th>\n",
       "      <td>sell</td>\n",
       "      <td>0.06</td>\n",
       "      <td>eurusd</td>\n",
       "      <td>1.10538</td>\n",
       "      <td>1.1055</td>\n",
       "      <td>0.0000</td>\n",
       "      <td>2019.09.18 21:16:55</td>\n",
       "      <td>1.10311</td>\n",
       "      <td>13.62</td>\n",
       "    </tr>\n",
       "    <tr>\n",
       "      <th>25013774</th>\n",
       "      <td>sell</td>\n",
       "      <td>0.06</td>\n",
       "      <td>gbpusd</td>\n",
       "      <td>1.24725</td>\n",
       "      <td>1.2520</td>\n",
       "      <td>1.2300</td>\n",
       "      <td>2019.09.19 15:41:41</td>\n",
       "      <td>1.24699</td>\n",
       "      <td>1.56</td>\n",
       "    </tr>\n",
       "    <tr>\n",
       "      <th>25115634</th>\n",
       "      <td>sell</td>\n",
       "      <td>0.08</td>\n",
       "      <td>xauusd</td>\n",
       "      <td>1522.78000</td>\n",
       "      <td>1532.0000</td>\n",
       "      <td>0.0000</td>\n",
       "      <td>2019.09.24 01:10:35</td>\n",
       "      <td>1523.39000</td>\n",
       "      <td>-4.88</td>\n",
       "    </tr>\n",
       "    <tr>\n",
       "      <th>25115653</th>\n",
       "      <td>sell</td>\n",
       "      <td>0.04</td>\n",
       "      <td>xauusd</td>\n",
       "      <td>1522.80000</td>\n",
       "      <td>0.0000</td>\n",
       "      <td>0.0000</td>\n",
       "      <td>2019.09.24 01:12:25</td>\n",
       "      <td>1523.59000</td>\n",
       "      <td>-3.16</td>\n",
       "    </tr>\n",
       "    <tr>\n",
       "      <th>25115668</th>\n",
       "      <td>sell</td>\n",
       "      <td>0.03</td>\n",
       "      <td>xauusd</td>\n",
       "      <td>1522.80000</td>\n",
       "      <td>1522.2000</td>\n",
       "      <td>1508.0000</td>\n",
       "      <td>2019.09.24 17:01:38</td>\n",
       "      <td>1522.35000</td>\n",
       "      <td>1.35</td>\n",
       "    </tr>\n",
       "    <tr>\n",
       "      <th>25115680</th>\n",
       "      <td>sell</td>\n",
       "      <td>0.02</td>\n",
       "      <td>xauusd</td>\n",
       "      <td>1522.75000</td>\n",
       "      <td>1522.3000</td>\n",
       "      <td>1508.0000</td>\n",
       "      <td>2019.09.24 17:01:38</td>\n",
       "      <td>1522.31000</td>\n",
       "      <td>0.88</td>\n",
       "    </tr>\n",
       "    <tr>\n",
       "      <th>25148355</th>\n",
       "      <td>sell</td>\n",
       "      <td>0.06</td>\n",
       "      <td>xauusd</td>\n",
       "      <td>1532.02000</td>\n",
       "      <td>1538.0000</td>\n",
       "      <td>0.0000</td>\n",
       "      <td>2019.09.24 21:18:43</td>\n",
       "      <td>1525.66000</td>\n",
       "      <td>38.16</td>\n",
       "    </tr>\n",
       "    <tr>\n",
       "      <th>25148480</th>\n",
       "      <td>sell</td>\n",
       "      <td>0.02</td>\n",
       "      <td>xauusd</td>\n",
       "      <td>1531.50000</td>\n",
       "      <td>1538.0000</td>\n",
       "      <td>0.0000</td>\n",
       "      <td>2019.09.24 21:18:46</td>\n",
       "      <td>1525.63000</td>\n",
       "      <td>11.74</td>\n",
       "    </tr>\n",
       "    <tr>\n",
       "      <th>25148522</th>\n",
       "      <td>sell</td>\n",
       "      <td>0.01</td>\n",
       "      <td>xauusd</td>\n",
       "      <td>1531.86000</td>\n",
       "      <td>1538.0000</td>\n",
       "      <td>0.0000</td>\n",
       "      <td>2019.09.24 21:18:49</td>\n",
       "      <td>1525.66000</td>\n",
       "      <td>6.20</td>\n",
       "    </tr>\n",
       "    <tr>\n",
       "      <th>25159294</th>\n",
       "      <td>sell</td>\n",
       "      <td>0.06</td>\n",
       "      <td>xauusd</td>\n",
       "      <td>1531.06000</td>\n",
       "      <td>1537.0000</td>\n",
       "      <td>0.0000</td>\n",
       "      <td>2019.09.25 15:24:31</td>\n",
       "      <td>1527.40000</td>\n",
       "      <td>21.96</td>\n",
       "    </tr>\n",
       "    <tr>\n",
       "      <th>25159303</th>\n",
       "      <td>sell</td>\n",
       "      <td>0.01</td>\n",
       "      <td>xauusd</td>\n",
       "      <td>1531.28000</td>\n",
       "      <td>1537.0000</td>\n",
       "      <td>0.0000</td>\n",
       "      <td>2019.09.25 15:24:35</td>\n",
       "      <td>1527.36000</td>\n",
       "      <td>3.92</td>\n",
       "    </tr>\n",
       "  </tbody>\n",
       "</table>\n",
       "</div>"
      ],
      "text/plain": [
       "          Type  Size  Symbol   openPrice        S/L        T/P            closeTime  closePrice  Profit\n",
       "Order                                                                                                  \n",
       "24316034   buy  0.04  xauusd  1529.21000  1523.0000  1543.0000  2019.08.27 09:16:01  1533.69000   17.92\n",
       "24334215   buy  0.01  eurjpy   117.66400   116.9500   118.7000  2019.08.29 06:38:16   117.37400   -2.73\n",
       "24342155   buy  0.05  eurjpy   117.34600   116.9500   119.7000  2019.08.28 21:01:24   117.45200    5.00\n",
       "24373260   buy  0.01  eurusd     1.10791     1.1040     1.1175  2019.08.29 06:38:28     1.10818    0.27\n",
       "24392415   buy  0.01  gbpusd     1.22024     1.2080     1.2370  2019.08.29 06:37:23     1.21990   -0.34\n",
       "24392425   buy  0.01  gbpjpy   129.23400   128.0000   132.2000  2019.08.29 06:36:58   129.21000   -0.23\n",
       "24392432   buy  0.04  gbpjpy   129.23400   128.0000   132.2000  2019.08.29 15:01:24   129.80100   21.35\n",
       "24392440   buy  0.04  gbpusd     1.22024     1.2080     1.2370  2019.08.29 15:01:43     1.22173    5.96\n",
       "24392449   buy  0.04  eurjpy   117.66400   117.4000   118.7000  2019.08.30 09:17:23   117.39900   -9.98\n",
       "24392456   buy  0.04  eurusd     1.10791     1.1015     1.1175  2019.08.30 17:57:15     1.10150  -25.64\n",
       "24416172   buy  0.04  eurusd     1.10543     1.1040     0.0000  2019.08.29 19:56:51     1.10518   -1.00\n",
       "24416187   buy  0.05  eurusd     1.10545     1.1015     0.0000  2019.08.30 17:57:14     1.10150  -19.75\n",
       "24417804   buy  0.05  xauusd  1528.76000  1524.0000  1555.0000  2019.08.29 21:11:08  1523.80000  -24.80\n",
       "24432348   buy  0.05  xauusd  1525.05000  1515.0000  1560.0000  2019.08.30 17:02:21  1528.61000   17.80\n",
       "24464440   buy  0.01  gbpusd     1.21630     1.2080     0.0000  2019.09.02 01:33:50     1.21590   -0.40\n",
       "24464454   buy  0.04  gbpusd     1.21630     1.2080     0.0000  2019.09.02 11:55:28     1.20799  -33.24\n",
       "24471787   buy  0.05  eurusd     1.09915     1.0940     0.0000  2019.09.03 04:04:43     1.09399  -25.80\n",
       "24518282   buy  0.01  gbpjpy   128.17800   127.8000     0.0000  2019.09.03 04:49:22   128.14500   -0.31\n",
       "24518288   buy  0.04  gbpjpy   128.17800   127.8000     0.0000  2019.09.03 08:37:26   127.80000  -14.24\n",
       "24518296   buy  0.01  audusd     0.67020     0.6660     0.0000  2019.09.03 04:49:54     0.66991   -0.29\n",
       "24518303   buy  0.04  audusd     0.67020     0.6660     0.6830  2019.09.03 15:47:53     0.67284   10.56\n",
       "24518320   buy  0.01  usdjpy   106.37200   105.8000     0.0000  2019.09.03 04:50:27   106.34500   -0.25\n",
       "24518329   buy  0.04  usdjpy   106.37200   105.8000     0.0000  2019.09.03 17:04:26   105.80000  -21.63\n",
       "24766404   buy  0.01  xauusd  1487.63000  1473.0000     0.0000  2019.09.11 01:52:25  1487.05000   -0.58\n",
       "24766410   buy  0.04  xauusd  1487.63000  1473.0000     0.0000  2019.09.11 14:11:29  1492.74000   20.44\n",
       "24778231   buy  0.06  usdmxn    19.52363    19.4300     0.0000  2019.09.12 14:48:03    19.42847  -29.39\n",
       "24850230   buy  0.06  usdmxn    19.44123     0.0000     0.0000  2019.09.25 15:24:28    19.58155   43.00\n",
       "24853645   buy  0.06  xauusd  1497.97000  1491.0000     0.0000  2019.09.13 10:58:49  1504.48000   39.06\n",
       "24881355   buy  0.06  xauusd  1494.14000     0.0000     0.0000  2019.09.16 01:24:24  1501.74000   45.60\n",
       "24883777   buy  0.06  xauusd  1487.17000     0.0000     0.0000  2019.09.13 23:48:34  1488.57000    8.40\n",
       "24929591   buy  0.06  eurusd     1.10122     1.0975     0.0000  2019.09.17 15:26:48     1.10214    5.52\n",
       "25011739   buy  0.06  eurusd     1.10373     0.0000     0.0000  2019.09.19 15:33:37     1.10639   15.96\n",
       "25027858   buy  0.06  usdmxn    19.32863     0.0000     0.0000  2019.09.19 17:53:54    19.37814   15.33\n",
       "25042946   buy  0.06  eurusd     1.10451     1.1010     0.0000  2019.09.20 07:27:14     1.10573    7.32\n",
       "25043204   buy  0.06  eurusd     1.10454     1.1010     0.0000  2019.09.20 07:27:10     1.10573    7.14\n",
       "25188529   buy  0.08  usdmxn    19.56233    19.5900    19.9000  2019.09.26 21:00:44    19.57897    6.80\n",
       "25188553   buy  0.01  usdmxn    19.56103    19.5900    19.9000  2019.09.26 21:00:44    19.58247    1.09\n",
       "25193432   buy  0.08  eurusd     1.09455     1.0915     1.1110  2019.09.26 22:33:46     1.09148  -24.56\n",
       "25229583   buy  0.09  btcusd  7910.75000     0.0000     0.0000  2019.09.27 15:49:19  7986.78000    6.84\n",
       "24311675  sell  0.04  eurjpy   117.40700   117.7000     0.0000  2019.08.27 06:20:11   117.42300   -0.61\n",
       "24311730  sell  0.04  eurjpy   117.38900   117.7000     0.0000  2019.08.27 06:23:28   117.41200   -0.87\n",
       "24311745  sell  0.04  eurjpy   117.36800     0.0000     0.0000  2019.08.27 06:24:13   117.40200   -1.29\n",
       "24315841  sell  0.05  eurjpy   117.34300   117.6500   117.1000  2019.08.27 09:16:08   117.31500    1.32\n",
       "24315970  sell  0.04  eurusd     1.11005     1.1126     1.1070  2019.08.27 09:16:04     1.11027   -0.88\n",
       "24318553  sell  0.05  eurgbp     0.90821     0.9120     0.9030  2019.08.27 13:31:11     0.90559   16.07\n",
       "24325707  sell  0.04  eurusd     1.11060     1.1130     1.1070  2019.08.27 13:57:03     1.11093   -1.32\n",
       "24325723  sell  0.04  eurusd     1.11062     1.1130     1.1070  2019.08.27 13:57:57     1.11079   -0.68\n",
       "24325740  sell  0.05  eurusd     1.11049     1.1130     1.1070  2019.08.27 14:02:05     1.11090   -2.05\n",
       "24427784  sell  0.02  usdjpy   106.49500   106.8000     0.0000  2019.08.30 02:53:33   106.47700    0.34\n",
       "24428006  sell  0.06  usdjpy   106.49500   106.8000     0.0000  2019.08.30 17:02:18   106.14000   20.07\n",
       "24464433  sell  0.01  usdcad     1.33202     1.3380     0.0000  2019.09.02 01:33:56     1.33237   -0.26\n",
       "24464463  sell  0.04  usdcad     1.33202     1.3380     0.0000  2019.09.03 15:20:26     1.33802  -17.94\n",
       "24518336  sell  0.05  xauusd  1524.40000  1538.0000     0.0000  2019.09.03 16:23:12  1538.00000  -68.00\n",
       "24582538  sell  0.10  usdcad     1.33315     1.3350     0.0000  2019.09.04 17:00:25     1.32928   29.11\n",
       "24652480  sell  0.05  eurusd     1.10362     1.1060     0.0000  2019.09.06 13:50:46     1.10302    3.00\n",
       "24652485  sell  0.05  audusd     0.68148     0.6860     0.0000  2019.09.06 13:50:41     0.68390  -12.10\n",
       "24652590  sell  0.05  gbpusd     1.23158     1.2360     0.0000  2019.09.06 13:50:38     1.22971    9.35\n",
       "24660928  sell  0.04  usdcad     1.32292     1.3260     0.0000  2019.09.06 06:05:20     1.32329   -1.12\n",
       "24660946  sell  0.04  usdcad     1.32294     1.3260     0.0000  2019.09.06 06:05:52     1.32326   -0.97\n",
       "24660956  sell  0.05  usdcad     1.32291     1.3260     0.0000  2019.09.06 13:50:35     1.32310   -0.72\n",
       "24669796  sell  0.05  usdcad     1.32248     1.3260     1.3110  2019.09.06 15:30:49     1.31870   14.33\n",
       "24669813  sell  0.05  eurusd     1.10270     1.1060     1.0940  2019.09.06 15:30:53     1.10360   -4.50\n",
       "24766416  sell  0.01  eurusd     1.10473     1.1120     0.0000  2019.09.11 01:54:40     1.10499   -0.26\n",
       "24766426  sell  0.04  eurusd     1.10473     1.1120     0.0000  2019.09.11 14:11:23     1.10122   14.04\n",
       "24769913  sell  0.05  usdjpy   107.76500   108.1000     0.0000  2019.09.11 14:11:19   107.71900    2.14\n",
       "24778151  sell  0.06  eurusd     1.10042     1.1030     0.0000  2019.09.11 17:18:40     1.09901    8.46\n",
       "24803133  sell  0.06  gbpusd     1.23265     1.2360     0.0000  2019.09.12 15:48:51     1.22902   21.78\n",
       "24868147  sell  0.06  eurusd     1.10976     1.1130     0.0000  2019.09.13 16:47:28     1.10689   17.22\n",
       "24898980  sell  0.06  xauusd  1504.16000  1515.0000     0.0000  2019.09.16 20:34:11  1503.59000    3.42\n",
       "24898989  sell  0.06  gbpusd     1.24659     1.2520     0.0000  2019.09.16 14:52:43     1.24387   16.32\n",
       "24899012  sell  0.06  eurusd     1.10721     1.1130     0.0000  2019.09.16 14:49:38     1.10332   23.34\n",
       "24910005  sell  0.06  gbpusd     1.24518     1.2485     0.0000  2019.09.16 20:34:08     1.24218   18.00\n",
       "24940198  sell  0.06  eurusd     1.10216     1.1035     0.0000  2019.09.17 16:17:43     1.10352   -8.16\n",
       "24955804  sell  0.06  eurusd     1.10538     1.1055     0.0000  2019.09.18 21:16:55     1.10311   13.62\n",
       "25013774  sell  0.06  gbpusd     1.24725     1.2520     1.2300  2019.09.19 15:41:41     1.24699    1.56\n",
       "25115634  sell  0.08  xauusd  1522.78000  1532.0000     0.0000  2019.09.24 01:10:35  1523.39000   -4.88\n",
       "25115653  sell  0.04  xauusd  1522.80000     0.0000     0.0000  2019.09.24 01:12:25  1523.59000   -3.16\n",
       "25115668  sell  0.03  xauusd  1522.80000  1522.2000  1508.0000  2019.09.24 17:01:38  1522.35000    1.35\n",
       "25115680  sell  0.02  xauusd  1522.75000  1522.3000  1508.0000  2019.09.24 17:01:38  1522.31000    0.88\n",
       "25148355  sell  0.06  xauusd  1532.02000  1538.0000     0.0000  2019.09.24 21:18:43  1525.66000   38.16\n",
       "25148480  sell  0.02  xauusd  1531.50000  1538.0000     0.0000  2019.09.24 21:18:46  1525.63000   11.74\n",
       "25148522  sell  0.01  xauusd  1531.86000  1538.0000     0.0000  2019.09.24 21:18:49  1525.66000    6.20\n",
       "25159294  sell  0.06  xauusd  1531.06000  1537.0000     0.0000  2019.09.25 15:24:31  1527.40000   21.96\n",
       "25159303  sell  0.01  xauusd  1531.28000  1537.0000     0.0000  2019.09.25 15:24:35  1527.36000    3.92"
      ]
     },
     "execution_count": 59,
     "metadata": {},
     "output_type": "execute_result"
    }
   ],
   "source": [
    "#data = fj.f_datosjson(p0_archivo = 'archivo_tradeview_2.xlsx')\n",
    "data = pd.read_excel('archivo_tradeview_2.xlsx',index_col=0)\n",
    "data = data.drop(['openTime','Commission','Taxes','Swap'], axis=1)\n",
    "data"
   ]
  },
  {
   "cell_type": "code",
   "execution_count": 60,
   "metadata": {},
   "outputs": [],
   "source": [
    "trader = LA.LossAversion(data)"
   ]
  },
  {
   "cell_type": "code",
   "execution_count": 61,
   "metadata": {},
   "outputs": [
    {
     "data": {
      "text/html": [
       "<div>\n",
       "<style scoped>\n",
       "    .dataframe tbody tr th:only-of-type {\n",
       "        vertical-align: middle;\n",
       "    }\n",
       "\n",
       "    .dataframe tbody tr th {\n",
       "        vertical-align: top;\n",
       "    }\n",
       "\n",
       "    .dataframe thead th {\n",
       "        text-align: right;\n",
       "    }\n",
       "</style>\n",
       "<table border=\"1\" class=\"dataframe\">\n",
       "  <thead>\n",
       "    <tr style=\"text-align: right;\">\n",
       "      <th></th>\n",
       "      <th>Número de operaciones</th>\n",
       "      <th>Número de pérdidas</th>\n",
       "      <th>Incidencias al sesgo</th>\n",
       "      <th>Incidencias al sesgo (%)</th>\n",
       "      <th>¿Actúa bajo el sesgo?</th>\n",
       "    </tr>\n",
       "  </thead>\n",
       "  <tbody>\n",
       "    <tr>\n",
       "      <th>0</th>\n",
       "      <td>84</td>\n",
       "      <td>38</td>\n",
       "      <td>13</td>\n",
       "      <td>0.342105</td>\n",
       "      <td>No</td>\n",
       "    </tr>\n",
       "  </tbody>\n",
       "</table>\n",
       "</div>"
      ],
      "text/plain": [
       "   Número de operaciones  Número de pérdidas  Incidencias al sesgo  Incidencias al sesgo (%) ¿Actúa bajo el sesgo?\n",
       "0                     84                  38                    13                  0.342105                    No"
      ]
     },
     "execution_count": 61,
     "metadata": {},
     "output_type": "execute_result"
    }
   ],
   "source": [
    "trader['Resultados']"
   ]
  },
  {
   "cell_type": "code",
   "execution_count": 62,
   "metadata": {},
   "outputs": [
    {
     "data": {
      "application/vnd.plotly.v1+json": {
       "config": {
        "plotlyServerURL": "https://plot.ly"
       },
       "data": [
        {
         "domain": {
          "x": [
           0,
           0.45
          ],
          "y": [
           0,
           1
          ]
         },
         "hole": 0.4,
         "hoverinfo": "label+percent+name",
         "labels": [
          "Ganancia",
          "Pérdida"
         ],
         "marker": {
          "colors": [
           "green",
           "red"
          ]
         },
         "name": "Histórico",
         "type": "pie",
         "values": [
          84,
          38
         ]
        },
        {
         "domain": {
          "x": [
           0.55,
           1
          ],
          "y": [
           0,
           1
          ]
         },
         "hole": 0.4,
         "hoverinfo": "label+percent+name",
         "labels": [
          "Cierres antes de S/L",
          "Cierre normal"
         ],
         "marker": {
          "colors": [
           "gold",
           "blue"
          ]
         },
         "name": "Comportamiento en pérdidas",
         "type": "pie",
         "values": [
          13,
          25
         ]
        }
       ],
       "layout": {
        "annotations": [
         {
          "font": {
           "size": 20
          },
          "showarrow": false,
          "text": "Histórico",
          "x": 0.18,
          "y": 0.5
         },
         {
          "font": {
           "size": 20
          },
          "showarrow": false,
          "text": "Pérdidas",
          "x": 0.82,
          "y": 0.5
         }
        ],
        "template": {
         "data": {
          "bar": [
           {
            "error_x": {
             "color": "#2a3f5f"
            },
            "error_y": {
             "color": "#2a3f5f"
            },
            "marker": {
             "line": {
              "color": "#E5ECF6",
              "width": 0.5
             }
            },
            "type": "bar"
           }
          ],
          "barpolar": [
           {
            "marker": {
             "line": {
              "color": "#E5ECF6",
              "width": 0.5
             }
            },
            "type": "barpolar"
           }
          ],
          "carpet": [
           {
            "aaxis": {
             "endlinecolor": "#2a3f5f",
             "gridcolor": "white",
             "linecolor": "white",
             "minorgridcolor": "white",
             "startlinecolor": "#2a3f5f"
            },
            "baxis": {
             "endlinecolor": "#2a3f5f",
             "gridcolor": "white",
             "linecolor": "white",
             "minorgridcolor": "white",
             "startlinecolor": "#2a3f5f"
            },
            "type": "carpet"
           }
          ],
          "choropleth": [
           {
            "colorbar": {
             "outlinewidth": 0,
             "ticks": ""
            },
            "type": "choropleth"
           }
          ],
          "contour": [
           {
            "colorbar": {
             "outlinewidth": 0,
             "ticks": ""
            },
            "colorscale": [
             [
              0,
              "#0d0887"
             ],
             [
              0.1111111111111111,
              "#46039f"
             ],
             [
              0.2222222222222222,
              "#7201a8"
             ],
             [
              0.3333333333333333,
              "#9c179e"
             ],
             [
              0.4444444444444444,
              "#bd3786"
             ],
             [
              0.5555555555555556,
              "#d8576b"
             ],
             [
              0.6666666666666666,
              "#ed7953"
             ],
             [
              0.7777777777777778,
              "#fb9f3a"
             ],
             [
              0.8888888888888888,
              "#fdca26"
             ],
             [
              1,
              "#f0f921"
             ]
            ],
            "type": "contour"
           }
          ],
          "contourcarpet": [
           {
            "colorbar": {
             "outlinewidth": 0,
             "ticks": ""
            },
            "type": "contourcarpet"
           }
          ],
          "heatmap": [
           {
            "colorbar": {
             "outlinewidth": 0,
             "ticks": ""
            },
            "colorscale": [
             [
              0,
              "#0d0887"
             ],
             [
              0.1111111111111111,
              "#46039f"
             ],
             [
              0.2222222222222222,
              "#7201a8"
             ],
             [
              0.3333333333333333,
              "#9c179e"
             ],
             [
              0.4444444444444444,
              "#bd3786"
             ],
             [
              0.5555555555555556,
              "#d8576b"
             ],
             [
              0.6666666666666666,
              "#ed7953"
             ],
             [
              0.7777777777777778,
              "#fb9f3a"
             ],
             [
              0.8888888888888888,
              "#fdca26"
             ],
             [
              1,
              "#f0f921"
             ]
            ],
            "type": "heatmap"
           }
          ],
          "heatmapgl": [
           {
            "colorbar": {
             "outlinewidth": 0,
             "ticks": ""
            },
            "colorscale": [
             [
              0,
              "#0d0887"
             ],
             [
              0.1111111111111111,
              "#46039f"
             ],
             [
              0.2222222222222222,
              "#7201a8"
             ],
             [
              0.3333333333333333,
              "#9c179e"
             ],
             [
              0.4444444444444444,
              "#bd3786"
             ],
             [
              0.5555555555555556,
              "#d8576b"
             ],
             [
              0.6666666666666666,
              "#ed7953"
             ],
             [
              0.7777777777777778,
              "#fb9f3a"
             ],
             [
              0.8888888888888888,
              "#fdca26"
             ],
             [
              1,
              "#f0f921"
             ]
            ],
            "type": "heatmapgl"
           }
          ],
          "histogram": [
           {
            "marker": {
             "colorbar": {
              "outlinewidth": 0,
              "ticks": ""
             }
            },
            "type": "histogram"
           }
          ],
          "histogram2d": [
           {
            "colorbar": {
             "outlinewidth": 0,
             "ticks": ""
            },
            "colorscale": [
             [
              0,
              "#0d0887"
             ],
             [
              0.1111111111111111,
              "#46039f"
             ],
             [
              0.2222222222222222,
              "#7201a8"
             ],
             [
              0.3333333333333333,
              "#9c179e"
             ],
             [
              0.4444444444444444,
              "#bd3786"
             ],
             [
              0.5555555555555556,
              "#d8576b"
             ],
             [
              0.6666666666666666,
              "#ed7953"
             ],
             [
              0.7777777777777778,
              "#fb9f3a"
             ],
             [
              0.8888888888888888,
              "#fdca26"
             ],
             [
              1,
              "#f0f921"
             ]
            ],
            "type": "histogram2d"
           }
          ],
          "histogram2dcontour": [
           {
            "colorbar": {
             "outlinewidth": 0,
             "ticks": ""
            },
            "colorscale": [
             [
              0,
              "#0d0887"
             ],
             [
              0.1111111111111111,
              "#46039f"
             ],
             [
              0.2222222222222222,
              "#7201a8"
             ],
             [
              0.3333333333333333,
              "#9c179e"
             ],
             [
              0.4444444444444444,
              "#bd3786"
             ],
             [
              0.5555555555555556,
              "#d8576b"
             ],
             [
              0.6666666666666666,
              "#ed7953"
             ],
             [
              0.7777777777777778,
              "#fb9f3a"
             ],
             [
              0.8888888888888888,
              "#fdca26"
             ],
             [
              1,
              "#f0f921"
             ]
            ],
            "type": "histogram2dcontour"
           }
          ],
          "mesh3d": [
           {
            "colorbar": {
             "outlinewidth": 0,
             "ticks": ""
            },
            "type": "mesh3d"
           }
          ],
          "parcoords": [
           {
            "line": {
             "colorbar": {
              "outlinewidth": 0,
              "ticks": ""
             }
            },
            "type": "parcoords"
           }
          ],
          "scatter": [
           {
            "marker": {
             "colorbar": {
              "outlinewidth": 0,
              "ticks": ""
             }
            },
            "type": "scatter"
           }
          ],
          "scatter3d": [
           {
            "line": {
             "colorbar": {
              "outlinewidth": 0,
              "ticks": ""
             }
            },
            "marker": {
             "colorbar": {
              "outlinewidth": 0,
              "ticks": ""
             }
            },
            "type": "scatter3d"
           }
          ],
          "scattercarpet": [
           {
            "marker": {
             "colorbar": {
              "outlinewidth": 0,
              "ticks": ""
             }
            },
            "type": "scattercarpet"
           }
          ],
          "scattergeo": [
           {
            "marker": {
             "colorbar": {
              "outlinewidth": 0,
              "ticks": ""
             }
            },
            "type": "scattergeo"
           }
          ],
          "scattergl": [
           {
            "marker": {
             "colorbar": {
              "outlinewidth": 0,
              "ticks": ""
             }
            },
            "type": "scattergl"
           }
          ],
          "scattermapbox": [
           {
            "marker": {
             "colorbar": {
              "outlinewidth": 0,
              "ticks": ""
             }
            },
            "type": "scattermapbox"
           }
          ],
          "scatterpolar": [
           {
            "marker": {
             "colorbar": {
              "outlinewidth": 0,
              "ticks": ""
             }
            },
            "type": "scatterpolar"
           }
          ],
          "scatterpolargl": [
           {
            "marker": {
             "colorbar": {
              "outlinewidth": 0,
              "ticks": ""
             }
            },
            "type": "scatterpolargl"
           }
          ],
          "scatterternary": [
           {
            "marker": {
             "colorbar": {
              "outlinewidth": 0,
              "ticks": ""
             }
            },
            "type": "scatterternary"
           }
          ],
          "surface": [
           {
            "colorbar": {
             "outlinewidth": 0,
             "ticks": ""
            },
            "colorscale": [
             [
              0,
              "#0d0887"
             ],
             [
              0.1111111111111111,
              "#46039f"
             ],
             [
              0.2222222222222222,
              "#7201a8"
             ],
             [
              0.3333333333333333,
              "#9c179e"
             ],
             [
              0.4444444444444444,
              "#bd3786"
             ],
             [
              0.5555555555555556,
              "#d8576b"
             ],
             [
              0.6666666666666666,
              "#ed7953"
             ],
             [
              0.7777777777777778,
              "#fb9f3a"
             ],
             [
              0.8888888888888888,
              "#fdca26"
             ],
             [
              1,
              "#f0f921"
             ]
            ],
            "type": "surface"
           }
          ],
          "table": [
           {
            "cells": {
             "fill": {
              "color": "#EBF0F8"
             },
             "line": {
              "color": "white"
             }
            },
            "header": {
             "fill": {
              "color": "#C8D4E3"
             },
             "line": {
              "color": "white"
             }
            },
            "type": "table"
           }
          ]
         },
         "layout": {
          "annotationdefaults": {
           "arrowcolor": "#2a3f5f",
           "arrowhead": 0,
           "arrowwidth": 1
          },
          "colorscale": {
           "diverging": [
            [
             0,
             "#8e0152"
            ],
            [
             0.1,
             "#c51b7d"
            ],
            [
             0.2,
             "#de77ae"
            ],
            [
             0.3,
             "#f1b6da"
            ],
            [
             0.4,
             "#fde0ef"
            ],
            [
             0.5,
             "#f7f7f7"
            ],
            [
             0.6,
             "#e6f5d0"
            ],
            [
             0.7,
             "#b8e186"
            ],
            [
             0.8,
             "#7fbc41"
            ],
            [
             0.9,
             "#4d9221"
            ],
            [
             1,
             "#276419"
            ]
           ],
           "sequential": [
            [
             0,
             "#0d0887"
            ],
            [
             0.1111111111111111,
             "#46039f"
            ],
            [
             0.2222222222222222,
             "#7201a8"
            ],
            [
             0.3333333333333333,
             "#9c179e"
            ],
            [
             0.4444444444444444,
             "#bd3786"
            ],
            [
             0.5555555555555556,
             "#d8576b"
            ],
            [
             0.6666666666666666,
             "#ed7953"
            ],
            [
             0.7777777777777778,
             "#fb9f3a"
            ],
            [
             0.8888888888888888,
             "#fdca26"
            ],
            [
             1,
             "#f0f921"
            ]
           ],
           "sequentialminus": [
            [
             0,
             "#0d0887"
            ],
            [
             0.1111111111111111,
             "#46039f"
            ],
            [
             0.2222222222222222,
             "#7201a8"
            ],
            [
             0.3333333333333333,
             "#9c179e"
            ],
            [
             0.4444444444444444,
             "#bd3786"
            ],
            [
             0.5555555555555556,
             "#d8576b"
            ],
            [
             0.6666666666666666,
             "#ed7953"
            ],
            [
             0.7777777777777778,
             "#fb9f3a"
            ],
            [
             0.8888888888888888,
             "#fdca26"
            ],
            [
             1,
             "#f0f921"
            ]
           ]
          },
          "colorway": [
           "#636efa",
           "#EF553B",
           "#00cc96",
           "#ab63fa",
           "#FFA15A",
           "#19d3f3",
           "#FF6692",
           "#B6E880",
           "#FF97FF",
           "#FECB52"
          ],
          "font": {
           "color": "#2a3f5f"
          },
          "geo": {
           "bgcolor": "white",
           "lakecolor": "white",
           "landcolor": "#E5ECF6",
           "showlakes": true,
           "showland": true,
           "subunitcolor": "white"
          },
          "hoverlabel": {
           "align": "left"
          },
          "hovermode": "closest",
          "mapbox": {
           "style": "light"
          },
          "paper_bgcolor": "white",
          "plot_bgcolor": "#E5ECF6",
          "polar": {
           "angularaxis": {
            "gridcolor": "white",
            "linecolor": "white",
            "ticks": ""
           },
           "bgcolor": "#E5ECF6",
           "radialaxis": {
            "gridcolor": "white",
            "linecolor": "white",
            "ticks": ""
           }
          },
          "scene": {
           "xaxis": {
            "backgroundcolor": "#E5ECF6",
            "gridcolor": "white",
            "gridwidth": 2,
            "linecolor": "white",
            "showbackground": true,
            "ticks": "",
            "zerolinecolor": "white"
           },
           "yaxis": {
            "backgroundcolor": "#E5ECF6",
            "gridcolor": "white",
            "gridwidth": 2,
            "linecolor": "white",
            "showbackground": true,
            "ticks": "",
            "zerolinecolor": "white"
           },
           "zaxis": {
            "backgroundcolor": "#E5ECF6",
            "gridcolor": "white",
            "gridwidth": 2,
            "linecolor": "white",
            "showbackground": true,
            "ticks": "",
            "zerolinecolor": "white"
           }
          },
          "shapedefaults": {
           "line": {
            "color": "#2a3f5f"
           }
          },
          "ternary": {
           "aaxis": {
            "gridcolor": "white",
            "linecolor": "white",
            "ticks": ""
           },
           "baxis": {
            "gridcolor": "white",
            "linecolor": "white",
            "ticks": ""
           },
           "bgcolor": "#E5ECF6",
           "caxis": {
            "gridcolor": "white",
            "linecolor": "white",
            "ticks": ""
           }
          },
          "title": {
           "x": 0.05
          },
          "xaxis": {
           "automargin": true,
           "gridcolor": "white",
           "linecolor": "white",
           "ticks": "",
           "zerolinecolor": "white",
           "zerolinewidth": 2
          },
          "yaxis": {
           "automargin": true,
           "gridcolor": "white",
           "linecolor": "white",
           "ticks": "",
           "zerolinecolor": "white",
           "zerolinewidth": 2
          }
         }
        },
        "title": {
         "text": "Sesgo de aversión a la pérdida"
        }
       }
      },
      "text/html": [
       "<div>\n",
       "        \n",
       "        \n",
       "            <div id=\"3e381f3a-c36e-4fda-a318-654f5c198fa2\" class=\"plotly-graph-div\" style=\"height:525px; width:100%;\"></div>\n",
       "            <script type=\"text/javascript\">\n",
       "                require([\"plotly\"], function(Plotly) {\n",
       "                    window.PLOTLYENV=window.PLOTLYENV || {};\n",
       "                    \n",
       "                if (document.getElementById(\"3e381f3a-c36e-4fda-a318-654f5c198fa2\")) {\n",
       "                    Plotly.newPlot(\n",
       "                        '3e381f3a-c36e-4fda-a318-654f5c198fa2',\n",
       "                        [{\"domain\": {\"x\": [0.0, 0.45], \"y\": [0.0, 1.0]}, \"hole\": 0.4, \"hoverinfo\": \"label+percent+name\", \"labels\": [\"Ganancia\", \"P\\u00e9rdida\"], \"marker\": {\"colors\": [\"green\", \"red\"]}, \"name\": \"Hist\\u00f3rico\", \"type\": \"pie\", \"values\": [84, 38]}, {\"domain\": {\"x\": [0.55, 1.0], \"y\": [0.0, 1.0]}, \"hole\": 0.4, \"hoverinfo\": \"label+percent+name\", \"labels\": [\"Cierres antes de S/L\", \"Cierre normal\"], \"marker\": {\"colors\": [\"gold\", \"blue\"]}, \"name\": \"Comportamiento en p\\u00e9rdidas\", \"type\": \"pie\", \"values\": [13, 25]}],\n",
       "                        {\"annotations\": [{\"font\": {\"size\": 20}, \"showarrow\": false, \"text\": \"Hist\\u00f3rico\", \"x\": 0.18, \"y\": 0.5}, {\"font\": {\"size\": 20}, \"showarrow\": false, \"text\": \"P\\u00e9rdidas\", \"x\": 0.82, \"y\": 0.5}], \"template\": {\"data\": {\"bar\": [{\"error_x\": {\"color\": \"#2a3f5f\"}, \"error_y\": {\"color\": \"#2a3f5f\"}, \"marker\": {\"line\": {\"color\": \"#E5ECF6\", \"width\": 0.5}}, \"type\": \"bar\"}], \"barpolar\": [{\"marker\": {\"line\": {\"color\": \"#E5ECF6\", \"width\": 0.5}}, \"type\": \"barpolar\"}], \"carpet\": [{\"aaxis\": {\"endlinecolor\": \"#2a3f5f\", \"gridcolor\": \"white\", \"linecolor\": \"white\", \"minorgridcolor\": \"white\", \"startlinecolor\": \"#2a3f5f\"}, \"baxis\": {\"endlinecolor\": \"#2a3f5f\", \"gridcolor\": \"white\", \"linecolor\": \"white\", \"minorgridcolor\": \"white\", \"startlinecolor\": \"#2a3f5f\"}, \"type\": \"carpet\"}], \"choropleth\": [{\"colorbar\": {\"outlinewidth\": 0, \"ticks\": \"\"}, \"type\": \"choropleth\"}], \"contour\": [{\"colorbar\": {\"outlinewidth\": 0, \"ticks\": \"\"}, \"colorscale\": [[0.0, \"#0d0887\"], [0.1111111111111111, \"#46039f\"], [0.2222222222222222, \"#7201a8\"], [0.3333333333333333, \"#9c179e\"], [0.4444444444444444, \"#bd3786\"], [0.5555555555555556, \"#d8576b\"], [0.6666666666666666, \"#ed7953\"], [0.7777777777777778, \"#fb9f3a\"], [0.8888888888888888, \"#fdca26\"], [1.0, \"#f0f921\"]], \"type\": \"contour\"}], \"contourcarpet\": [{\"colorbar\": {\"outlinewidth\": 0, \"ticks\": \"\"}, \"type\": \"contourcarpet\"}], \"heatmap\": [{\"colorbar\": {\"outlinewidth\": 0, \"ticks\": \"\"}, \"colorscale\": [[0.0, \"#0d0887\"], [0.1111111111111111, \"#46039f\"], [0.2222222222222222, \"#7201a8\"], [0.3333333333333333, \"#9c179e\"], [0.4444444444444444, \"#bd3786\"], [0.5555555555555556, \"#d8576b\"], [0.6666666666666666, \"#ed7953\"], [0.7777777777777778, \"#fb9f3a\"], [0.8888888888888888, \"#fdca26\"], [1.0, \"#f0f921\"]], \"type\": \"heatmap\"}], \"heatmapgl\": [{\"colorbar\": {\"outlinewidth\": 0, \"ticks\": \"\"}, \"colorscale\": [[0.0, \"#0d0887\"], [0.1111111111111111, \"#46039f\"], [0.2222222222222222, \"#7201a8\"], [0.3333333333333333, \"#9c179e\"], [0.4444444444444444, \"#bd3786\"], [0.5555555555555556, \"#d8576b\"], [0.6666666666666666, \"#ed7953\"], [0.7777777777777778, \"#fb9f3a\"], [0.8888888888888888, \"#fdca26\"], [1.0, \"#f0f921\"]], \"type\": \"heatmapgl\"}], \"histogram\": [{\"marker\": {\"colorbar\": {\"outlinewidth\": 0, \"ticks\": \"\"}}, \"type\": \"histogram\"}], \"histogram2d\": [{\"colorbar\": {\"outlinewidth\": 0, \"ticks\": \"\"}, \"colorscale\": [[0.0, \"#0d0887\"], [0.1111111111111111, \"#46039f\"], [0.2222222222222222, \"#7201a8\"], [0.3333333333333333, \"#9c179e\"], [0.4444444444444444, \"#bd3786\"], [0.5555555555555556, \"#d8576b\"], [0.6666666666666666, \"#ed7953\"], [0.7777777777777778, \"#fb9f3a\"], [0.8888888888888888, \"#fdca26\"], [1.0, \"#f0f921\"]], \"type\": \"histogram2d\"}], \"histogram2dcontour\": [{\"colorbar\": {\"outlinewidth\": 0, \"ticks\": \"\"}, \"colorscale\": [[0.0, \"#0d0887\"], [0.1111111111111111, \"#46039f\"], [0.2222222222222222, \"#7201a8\"], [0.3333333333333333, \"#9c179e\"], [0.4444444444444444, \"#bd3786\"], [0.5555555555555556, \"#d8576b\"], [0.6666666666666666, \"#ed7953\"], [0.7777777777777778, \"#fb9f3a\"], [0.8888888888888888, \"#fdca26\"], [1.0, \"#f0f921\"]], \"type\": \"histogram2dcontour\"}], \"mesh3d\": [{\"colorbar\": {\"outlinewidth\": 0, \"ticks\": \"\"}, \"type\": \"mesh3d\"}], \"parcoords\": [{\"line\": {\"colorbar\": {\"outlinewidth\": 0, \"ticks\": \"\"}}, \"type\": \"parcoords\"}], \"scatter\": [{\"marker\": {\"colorbar\": {\"outlinewidth\": 0, \"ticks\": \"\"}}, \"type\": \"scatter\"}], \"scatter3d\": [{\"line\": {\"colorbar\": {\"outlinewidth\": 0, \"ticks\": \"\"}}, \"marker\": {\"colorbar\": {\"outlinewidth\": 0, \"ticks\": \"\"}}, \"type\": \"scatter3d\"}], \"scattercarpet\": [{\"marker\": {\"colorbar\": {\"outlinewidth\": 0, \"ticks\": \"\"}}, \"type\": \"scattercarpet\"}], \"scattergeo\": [{\"marker\": {\"colorbar\": {\"outlinewidth\": 0, \"ticks\": \"\"}}, \"type\": \"scattergeo\"}], \"scattergl\": [{\"marker\": {\"colorbar\": {\"outlinewidth\": 0, \"ticks\": \"\"}}, \"type\": \"scattergl\"}], \"scattermapbox\": [{\"marker\": {\"colorbar\": {\"outlinewidth\": 0, \"ticks\": \"\"}}, \"type\": \"scattermapbox\"}], \"scatterpolar\": [{\"marker\": {\"colorbar\": {\"outlinewidth\": 0, \"ticks\": \"\"}}, \"type\": \"scatterpolar\"}], \"scatterpolargl\": [{\"marker\": {\"colorbar\": {\"outlinewidth\": 0, \"ticks\": \"\"}}, \"type\": \"scatterpolargl\"}], \"scatterternary\": [{\"marker\": {\"colorbar\": {\"outlinewidth\": 0, \"ticks\": \"\"}}, \"type\": \"scatterternary\"}], \"surface\": [{\"colorbar\": {\"outlinewidth\": 0, \"ticks\": \"\"}, \"colorscale\": [[0.0, \"#0d0887\"], [0.1111111111111111, \"#46039f\"], [0.2222222222222222, \"#7201a8\"], [0.3333333333333333, \"#9c179e\"], [0.4444444444444444, \"#bd3786\"], [0.5555555555555556, \"#d8576b\"], [0.6666666666666666, \"#ed7953\"], [0.7777777777777778, \"#fb9f3a\"], [0.8888888888888888, \"#fdca26\"], [1.0, \"#f0f921\"]], \"type\": \"surface\"}], \"table\": [{\"cells\": {\"fill\": {\"color\": \"#EBF0F8\"}, \"line\": {\"color\": \"white\"}}, \"header\": {\"fill\": {\"color\": \"#C8D4E3\"}, \"line\": {\"color\": \"white\"}}, \"type\": \"table\"}]}, \"layout\": {\"annotationdefaults\": {\"arrowcolor\": \"#2a3f5f\", \"arrowhead\": 0, \"arrowwidth\": 1}, \"colorscale\": {\"diverging\": [[0, \"#8e0152\"], [0.1, \"#c51b7d\"], [0.2, \"#de77ae\"], [0.3, \"#f1b6da\"], [0.4, \"#fde0ef\"], [0.5, \"#f7f7f7\"], [0.6, \"#e6f5d0\"], [0.7, \"#b8e186\"], [0.8, \"#7fbc41\"], [0.9, \"#4d9221\"], [1, \"#276419\"]], \"sequential\": [[0.0, \"#0d0887\"], [0.1111111111111111, \"#46039f\"], [0.2222222222222222, \"#7201a8\"], [0.3333333333333333, \"#9c179e\"], [0.4444444444444444, \"#bd3786\"], [0.5555555555555556, \"#d8576b\"], [0.6666666666666666, \"#ed7953\"], [0.7777777777777778, \"#fb9f3a\"], [0.8888888888888888, \"#fdca26\"], [1.0, \"#f0f921\"]], \"sequentialminus\": [[0.0, \"#0d0887\"], [0.1111111111111111, \"#46039f\"], [0.2222222222222222, \"#7201a8\"], [0.3333333333333333, \"#9c179e\"], [0.4444444444444444, \"#bd3786\"], [0.5555555555555556, \"#d8576b\"], [0.6666666666666666, \"#ed7953\"], [0.7777777777777778, \"#fb9f3a\"], [0.8888888888888888, \"#fdca26\"], [1.0, \"#f0f921\"]]}, \"colorway\": [\"#636efa\", \"#EF553B\", \"#00cc96\", \"#ab63fa\", \"#FFA15A\", \"#19d3f3\", \"#FF6692\", \"#B6E880\", \"#FF97FF\", \"#FECB52\"], \"font\": {\"color\": \"#2a3f5f\"}, \"geo\": {\"bgcolor\": \"white\", \"lakecolor\": \"white\", \"landcolor\": \"#E5ECF6\", \"showlakes\": true, \"showland\": true, \"subunitcolor\": \"white\"}, \"hoverlabel\": {\"align\": \"left\"}, \"hovermode\": \"closest\", \"mapbox\": {\"style\": \"light\"}, \"paper_bgcolor\": \"white\", \"plot_bgcolor\": \"#E5ECF6\", \"polar\": {\"angularaxis\": {\"gridcolor\": \"white\", \"linecolor\": \"white\", \"ticks\": \"\"}, \"bgcolor\": \"#E5ECF6\", \"radialaxis\": {\"gridcolor\": \"white\", \"linecolor\": \"white\", \"ticks\": \"\"}}, \"scene\": {\"xaxis\": {\"backgroundcolor\": \"#E5ECF6\", \"gridcolor\": \"white\", \"gridwidth\": 2, \"linecolor\": \"white\", \"showbackground\": true, \"ticks\": \"\", \"zerolinecolor\": \"white\"}, \"yaxis\": {\"backgroundcolor\": \"#E5ECF6\", \"gridcolor\": \"white\", \"gridwidth\": 2, \"linecolor\": \"white\", \"showbackground\": true, \"ticks\": \"\", \"zerolinecolor\": \"white\"}, \"zaxis\": {\"backgroundcolor\": \"#E5ECF6\", \"gridcolor\": \"white\", \"gridwidth\": 2, \"linecolor\": \"white\", \"showbackground\": true, \"ticks\": \"\", \"zerolinecolor\": \"white\"}}, \"shapedefaults\": {\"line\": {\"color\": \"#2a3f5f\"}}, \"ternary\": {\"aaxis\": {\"gridcolor\": \"white\", \"linecolor\": \"white\", \"ticks\": \"\"}, \"baxis\": {\"gridcolor\": \"white\", \"linecolor\": \"white\", \"ticks\": \"\"}, \"bgcolor\": \"#E5ECF6\", \"caxis\": {\"gridcolor\": \"white\", \"linecolor\": \"white\", \"ticks\": \"\"}}, \"title\": {\"x\": 0.05}, \"xaxis\": {\"automargin\": true, \"gridcolor\": \"white\", \"linecolor\": \"white\", \"ticks\": \"\", \"zerolinecolor\": \"white\", \"zerolinewidth\": 2}, \"yaxis\": {\"automargin\": true, \"gridcolor\": \"white\", \"linecolor\": \"white\", \"ticks\": \"\", \"zerolinecolor\": \"white\", \"zerolinewidth\": 2}}}, \"title\": {\"text\": \"Sesgo de aversi\\u00f3n a la p\\u00e9rdida\"}},\n",
       "                        {\"responsive\": true}\n",
       "                    ).then(function(){\n",
       "                            \n",
       "var gd = document.getElementById('3e381f3a-c36e-4fda-a318-654f5c198fa2');\n",
       "var x = new MutationObserver(function (mutations, observer) {{\n",
       "        var display = window.getComputedStyle(gd).display;\n",
       "        if (!display || display === 'none') {{\n",
       "            console.log([gd, 'removed!']);\n",
       "            Plotly.purge(gd);\n",
       "            observer.disconnect();\n",
       "        }}\n",
       "}});\n",
       "\n",
       "// Listen for the removal of the full notebook cells\n",
       "var notebookContainer = gd.closest('#notebook-container');\n",
       "if (notebookContainer) {{\n",
       "    x.observe(notebookContainer, {childList: true});\n",
       "}}\n",
       "\n",
       "// Listen for the clearing of the current output cell\n",
       "var outputEl = gd.closest('.output');\n",
       "if (outputEl) {{\n",
       "    x.observe(outputEl, {childList: true});\n",
       "}}\n",
       "\n",
       "                        })\n",
       "                };\n",
       "                });\n",
       "            </script>\n",
       "        </div>"
      ]
     },
     "metadata": {},
     "output_type": "display_data"
    }
   ],
   "source": [
    "trader['Gráficos']"
   ]
  },
  {
   "cell_type": "markdown",
   "metadata": {},
   "source": [
    "### Conclusiones\n",
    "\n",
    "Podemos notar que en este caso el trader no presenta un número significativo de operaciones cerradas antes del nivel establecido, por lo que se llega a la conclusión que su actuar no se encuentra sesgado de esta manera."
   ]
  },
  {
   "cell_type": "code",
   "execution_count": null,
   "metadata": {},
   "outputs": [],
   "source": []
  }
 ],
 "metadata": {
  "kernelspec": {
   "display_name": "Python 3",
   "language": "python",
   "name": "python3"
  },
  "language_info": {
   "codemirror_mode": {
    "name": "ipython",
    "version": 3
   },
   "file_extension": ".py",
   "mimetype": "text/x-python",
   "name": "python",
   "nbconvert_exporter": "python",
   "pygments_lexer": "ipython3",
   "version": "3.7.0"
  }
 },
 "nbformat": 4,
 "nbformat_minor": 2
}
