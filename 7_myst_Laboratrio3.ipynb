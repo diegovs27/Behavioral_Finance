{
 "cells": [
  {
   "cell_type": "markdown",
   "metadata": {},
   "source": [
    "<img style=\"float: right; margin: 0px 0px 15px 15px;\" src=\"https://upload.wikimedia.org/wikipedia/commons/d/db/Logo_ITESO_normal.jpg\" width=\"150px\" height=\"90px\" />\n",
    "\n",
    "## Microestructuras y sistemas de trading\n",
    "\n",
    "### Laboratorio 3. Behavioral Finance\n",
    "\n",
    ">##### Carlos Eduardo Ochoa Arámbula IF698020\n",
    ">##### Diego Velasco Sánchez IF698016\n",
    ">##### Oscar Germán Villa Domínguez IF697598"
   ]
  },
  {
   "cell_type": "markdown",
   "metadata": {},
   "source": [
    "### Objetivo:\n",
    "\n",
    "Para la resolución de este laboratorio, se implementará una función que pueda determinar que tanto incurre un trader en un sesgo cognitivo, llamado aversión a la pérdida, descubierto y desarrollado por Daniel Kahneman y Amos Tversky en su famosa investigación del \"Prospect theory\".\n"
   ]
  },
  {
   "cell_type": "markdown",
   "metadata": {},
   "source": [
    "### Sesgos Cognitivos:\n",
    "\n",
    "Se les conoce así a los efectos psicológicos que producen algún tipo de desviación en el proceso mental de una persona, lo que produce un resultado que carezca de lógica o racionalidad.\n",
    "\n",
    "Existe una gran cantidad de sesgos, sin embargo, en este proyecto, el sesgo a trabajar es el de \"loss aversion\"."
   ]
  },
  {
   "cell_type": "markdown",
   "metadata": {},
   "source": [
    "### Loss Aversion:\n",
    "\n",
    "La aversión a la pérdida hace referencia a que las personas preferimos fuertemente evitar pérdidas a realizar ganancias monetarias equivalentes, lo que normalmente se define con una frase: \"Las pérdidas tienen más peso que las ganancias\".\n",
    "\n",
    "Para términos de este laboratorio, se tomará como una decisión sesgada el realizar una pérdida antes de que el precio del subyacente seleccionado llegue al nivel del \"Stop loss\" establecido."
   ]
  },
  {
   "cell_type": "code",
   "execution_count": 2,
   "metadata": {},
   "outputs": [],
   "source": [
    "import numpy as np\n",
    "import pandas as pd\n",
    "import func_json as fj"
   ]
  },
  {
   "cell_type": "code",
   "execution_count": 4,
   "metadata": {},
   "outputs": [],
   "source": [
    "data = fj.f_datosjson(p0_archivo = 'archivo_tradeview_2.xlsx')"
   ]
  },
  {
   "cell_type": "code",
   "execution_count": null,
   "metadata": {},
   "outputs": [],
   "source": [
    "imp"
   ]
  },
  {
   "cell_type": "code",
   "execution_count": null,
   "metadata": {},
   "outputs": [],
   "source": []
  }
 ],
 "metadata": {
  "kernelspec": {
   "display_name": "Python 3",
   "language": "python",
   "name": "python3"
  },
  "language_info": {
   "codemirror_mode": {
    "name": "ipython",
    "version": 3
   },
   "file_extension": ".py",
   "mimetype": "text/x-python",
   "name": "python",
   "nbconvert_exporter": "python",
   "pygments_lexer": "ipython3",
   "version": "3.7.0"
  }
 },
 "nbformat": 4,
 "nbformat_minor": 2
}
