{
 "cells": [
  {
   "cell_type": "code",
   "execution_count": 1,
   "metadata": {},
   "outputs": [],
   "source": [
    "import numpy as np\n",
    "import pandas as pd\n",
    "import func_json as fj\n",
    "import f_bf_lossaversion as LA\n",
    "import plotly.graph_objects as go\n",
    "from plotly.subplots import make_subplots\n",
    "\n",
    "def f_bf_lossaversion(data):\n",
    "    \n",
    "    \n",
    "    #Definir el sesgo\n",
    "    e_explicacion = f'Loss aversion: Este sesgo consiste en contabilizar las ocasiones en las que se decide cerrar una operación, con pérdida, antes del stop loss que se había indicado.'\n",
    "    \n",
    "    \n",
    "    # Obtenemos la información que necesitamos para observar si hay sesgo o no\n",
    "    Mov_tot = len(data) #Número de operaciones\n",
    "    Tot_loss = len(data[data['Profit']<0]) #Contamos las veces que se registró una pérdida\n",
    "    Loss_av = len(data[(data['Profit']<0)&(data['closePrice']>data['S/L'])]) #Operaciones con pérdida antes del S/L\n",
    "    Comp = Tot_loss-Loss_av #Complemento (para la gráfica)\n",
    "    Porcentaje = round((Loss_av/Tot_loss)*100)\n",
    "    e_escala = f'El trader tiene una incidencia al sesgo del:{Porcentaje}%'\n",
    "    if Porcentaje>.5:\n",
    "        R = 'Si'\n",
    "    else:\n",
    "        R = 'No'\n",
    "            \n",
    "    \n",
    "    #Construcción de los gráficos que ejemplifiquen nuestro caso\n",
    "    colors2 = ['gold','blue']\n",
    "    labels2 = ['Cierres antes de S/L','Cierre normal']\n",
    "    values2 = [Loss_av,Comp]\n",
    "    colors1 = ['green', 'red']\n",
    "    labels1 = ['Ganancia','Pérdida']\n",
    "    values1 = [Mov_tot,Tot_loss]\n",
    "\n",
    "    fig = make_subplots(rows=1, cols=2, specs=[[{'type':'domain'}, {'type':'domain'}]])\n",
    "    fig.add_trace(go.Pie(labels=labels1, values=values1, name=\"Histórico\",marker_colors=colors1),1, 1)\n",
    "    fig.add_trace(go.Pie(labels=labels2, values=values2, name=\"Comportamiento en pérdidas\",marker_colors=colors2),1, 2)\n",
    "    fig.update_traces(hole=.4, hoverinfo=\"label+percent+name\")\n",
    "    fig.update_layout(\n",
    "        title_text=\"Sesgo de aversión a la pérdida\",\n",
    "        annotations=[dict(text='Histórico', x=0.18, y=0.5, font_size=20, showarrow=False),\n",
    "                 dict(text='Pérdidas', x=0.82, y=0.5, font_size=20, showarrow=False)])\n",
    "    #fig.show()\n",
    "    # Datos para presentar\n",
    "    \n",
    "    dic = {'Número de operaciones':[Mov_tot],\n",
    "           'Número de pérdidas': [Tot_loss],\n",
    "           'Incidencias al sesgo': [Loss_av],\n",
    "           'Incidencias al sesgo (%)': [Porcentaje],\n",
    "           '¿Actúa bajo el sesgo?': [R]}\n",
    "    df_datos = pd.DataFrame(dic)\n",
    "    \n",
    "    return {'datos': df_datos,\n",
    "           'grafica': fig,\n",
    "           'explicacion': e_explicacion,\n",
    "           'escala': {'valor': Porcentje,\n",
    "                      'texto': e_escala}}\n"
   ]
  },
  {
   "cell_type": "code",
   "execution_count": null,
   "metadata": {},
   "outputs": [],
   "source": []
  }
 ],
 "metadata": {
  "kernelspec": {
   "display_name": "Python 3",
   "language": "python",
   "name": "python3"
  },
  "language_info": {
   "codemirror_mode": {
    "name": "ipython",
    "version": 3
   },
   "file_extension": ".py",
   "mimetype": "text/x-python",
   "name": "python",
   "nbconvert_exporter": "python",
   "pygments_lexer": "ipython3",
   "version": "3.7.0"
  }
 },
 "nbformat": 4,
 "nbformat_minor": 2
}
